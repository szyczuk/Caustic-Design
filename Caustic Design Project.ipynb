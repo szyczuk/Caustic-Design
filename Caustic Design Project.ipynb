{
 "cells": [
  {
   "cell_type": "markdown",
   "id": "bb11fa61",
   "metadata": {},
   "source": [
    "## Loading up the packages"
   ]
  },
  {
   "cell_type": "code",
   "execution_count": 49,
   "id": "b6b52eca",
   "metadata": {},
   "outputs": [],
   "source": [
    "import tensorflow as tf\n",
    "import numpy as np\n",
    "import matplotlib.pyplot as plt\n",
    "from tensorflow import keras\n",
    "import seaborn as sns\n",
    "import requests\n",
    "from PIL import Image\n",
    "from io import BytesIO"
   ]
  },
  {
   "cell_type": "markdown",
   "id": "c3f98b92",
   "metadata": {},
   "source": [
    "## Defining the problem set-up variables"
   ]
  },
  {
   "cell_type": "code",
   "execution_count": 2,
   "id": "08e20831",
   "metadata": {},
   "outputs": [],
   "source": [
    "s = 2**4 * 2**5 * 2**5 # The total number of light samples\n",
    "order = 2**4 # Order of the 2D fourier features\n",
    "ind_r = 1.48899 # Refractive index of the acrilic glass\n",
    "size = 2 * order + 1 # Usefull transformation\n",
    "d = 2 * np.pi # Distance to the screen projection"
   ]
  },
  {
   "cell_type": "code",
   "execution_count": 3,
   "id": "ae62adcf",
   "metadata": {},
   "outputs": [
    {
     "name": "stderr",
     "output_type": "stream",
     "text": [
      "2024-11-20 12:42:56.381688: I tensorflow/core/platform/cpu_feature_guard.cc:193] This TensorFlow binary is optimized with oneAPI Deep Neural Network Library (oneDNN) to use the following CPU instructions in performance-critical operations:  SSE4.1 SSE4.2 AVX AVX2 FMA\n",
      "To enable them in other operations, rebuild TensorFlow with the appropriate compiler flags.\n"
     ]
    }
   ],
   "source": [
    "# Random points for reproducible results \n",
    "tf.random.set_seed(12)\n",
    "\n",
    "# Generation of uniformly distributed numbers from range (-π,π) type float64\n",
    "x = tf.cast(tf.random.uniform((s,1), minval=-np.pi, maxval=np.pi), tf.float64)\n",
    "y = tf.cast(tf.random.uniform((s,1), minval=-np.pi, maxval=np.pi), tf.float64)"
   ]
  },
  {
   "cell_type": "markdown",
   "id": "ed90ffce",
   "metadata": {},
   "source": [
    "## Loading up image for optimization"
   ]
  },
  {
   "cell_type": "code",
   "execution_count": 73,
   "id": "2d3d59f9",
   "metadata": {},
   "outputs": [],
   "source": [
    "url = 'https://github.com/szyczuk/Caustic-Design/blob/main/images/biblioteka_32.jpg?raw=true'\n",
    "\n",
    "response = requests.get(url)\n",
    "image_data = response.content  # Get raw image bytes\n",
    "\n",
    "# Decode the image data into a TensorFlow tensor\n",
    "target_photo1 = tf.image.decode_image(image_data, channels=3)  # Load as RGB\n",
    "target_photo2 = tf.image.rgb_to_grayscale(target_photo1)      # Convert to grayscale\n",
    "target_photo3 = tf.image.convert_image_dtype(target_photo2, tf.float64)  # Normalize pixel values\n",
    "t_h,t_w=tf.squeeze(target_photo3).shape"
   ]
  },
  {
   "cell_type": "code",
   "execution_count": 74,
   "id": "6e3f75dc",
   "metadata": {},
   "outputs": [
    {
     "data": {
      "image/png": "[encoded data removed]",
      "text/plain": [
       "<Figure size 640x480 with 1 Axes>"
      ]
     },
     "metadata": {},
     "output_type": "display_data"
    }
   ],
   "source": [
    "# Display the image using matplotlib\n",
    "plt.imshow(target_photo3.numpy().squeeze(), cmap='gray')\n",
    "plt.axis('off')\n",
    "plt.show()"
   ]
  },
  {
   "cell_type": "markdown",
   "id": "259d6515",
   "metadata": {},
   "source": [
    "## Defining functions to generate Fourier Features"
   ]
  },
  {
   "cell_type": "code",
   "execution_count": 5,
   "id": "3dc412a4",
   "metadata": {},
   "outputs": [],
   "source": [
    "@tf.function\n",
    "def fourier_features(tensor1, order):\n",
    "    x = tensor1[:, 0]\n",
    "    \n",
    "    features = []\n",
    "    features.append(tf.ones(shape=(s,), dtype=tf.float64))\n",
    "    \n",
    "\n",
    "    for i in range(1, order + 1):\n",
    "        features.append(tf.math.sin(i * x))\n",
    "        \n",
    "    for j in range(1, order + 1):\n",
    "        features.append(tf.math.cos(j * x))\n",
    "\n",
    "    result = tf.stack(features, axis=-1)\n",
    "\n",
    "    return result\n",
    "\n",
    "\n",
    "@tf.function\n",
    "def add_last_light(row):\n",
    "    xo = tf.linspace(0, t_h-1, t_h)\n",
    "    yo = tf.linspace(0, t_w-1, t_w)\n",
    "    Xo, Yo = tf.meshgrid(xo, yo)\n",
    "    shift = tf.constant(0.5, shape=(t_h, t_w, 2), dtype=tf.float64) #because I am looking at the distance to the middle of the square\n",
    "    mesh = tf.stack((Yo, Xo), axis=-1) + shift\n",
    "    adjusted = tf.reshape(row, (1, 1, 2))\n",
    "    z = tf.norm(mesh - adjusted, axis=-1, keepdims=True)\n",
    "    f_z = tf.exp(tf.constant([-10], dtype=tf.float64) * tf.square(z))\n",
    "    z_sum = tf.reduce_sum(f_z)\n",
    "    z_disp = tf.squeeze(f_z)\n",
    "    z_fin = z_disp/z_sum\n",
    "    \n",
    "    return z_fin"
   ]
  },
  {
   "cell_type": "markdown",
   "id": "df31c960",
   "metadata": {},
   "source": [
    "## Performing one time calculations outside of iterative loops"
   ]
  },
  {
   "cell_type": "code",
   "execution_count": 6,
   "id": "63fb7093",
   "metadata": {},
   "outputs": [
    {
     "name": "stdout",
     "output_type": "stream",
     "text": [
      "CPU times: user 348 ms, sys: 245 ms, total: 593 ms\n",
      "Wall time: 691 ms\n"
     ]
    }
   ],
   "source": [
    "%%time\n",
    "\n",
    "tf.random.set_seed(1)\n",
    "\n",
    "# fy = tf.random.normal((s, 2 * order + 1, 1))\n",
    "# fx = tf.random.normal((s, 1, 2 * order + 1))\n",
    "\n",
    "\n",
    "fx_t = fourier_features(x, order)\n",
    "fx = tf.expand_dims(fx_t, axis=1)\n",
    "\n",
    "fy_t = fourier_features(y, order)\n",
    "fy = tf.expand_dims(fy_t, axis=-1)\n",
    "\n",
    "\n",
    "# Outer produkt with shape (s, 2*order + 1, 2 * order + 1)\n",
    "f = tf.matmul(fy, fx)\n",
    "\n",
    "\n",
    "# creating sequence (0, -1, -2, -3, -4... -order, 1 ,2, 3 ,4 ... order)\n",
    "first_row = tf.concat([tf.zeros(1, dtype=tf.float64), tf.range(-1, -order - 1, -1, dtype=tf.float64), tf.range(1, order + 1, dtype=tf.float64)], axis=0)\n",
    "\n",
    "\n",
    "# making a matrix in order to differentiate with respect to x\n",
    "ax = tf.tile(tf.expand_dims(first_row, axis=0), [size, 1])\n",
    "ax = tf.expand_dims(ax, axis=0)\n",
    "ax = tf.tile(ax, [s, 1, 1]) \n",
    "\n",
    "# making a matrix in order to differentiate with respect to y\n",
    "ay = tf.tile(tf.expand_dims(first_row, axis=1), [1, size])\n",
    "ay = tf.expand_dims(ay, axis=0)\n",
    "ay = tf.tile(ay, [s, 1, 1]) "
   ]
  },
  {
   "cell_type": "markdown",
   "id": "f1e24d35",
   "metadata": {},
   "source": [
    "## Initialize or load pre-trained weights"
   ]
  },
  {
   "cell_type": "code",
   "execution_count": 76,
   "id": "9aa1c55f",
   "metadata": {},
   "outputs": [],
   "source": [
    "# If you are initializing new weights\n",
    "w = tf.Variable(tf.zeros(shape=(size, size), dtype=tf.float64), trainable=True)\n",
    "\n",
    "# If you want to use pre-trained weights\n",
    "\n",
    "# weights_path = '' #your weights directory\n",
    "# loaded_w = np.loadtxt(weights_path, delimiter=',', skiprows=0)\n",
    "# w = tf.Variable(loaded_w, dtype=tf.float64, trainable=True)"
   ]
  },
  {
   "cell_type": "markdown",
   "id": "4f19e623",
   "metadata": {},
   "source": [
    "## Defining the custom loss function"
   ]
  },
  {
   "cell_type": "code",
   "execution_count": 77,
   "id": "73d7bd70",
   "metadata": {},
   "outputs": [],
   "source": [
    "def compute_loss(target_photo, weights):\n",
    "    \n",
    "    # Reshape weights to match the shape of f\n",
    "    w1 = tf.expand_dims(weights, axis=0)  # shape (1, size, size)  \n",
    "    w1 = tf.tile(w1, [s, 1, 1]) # shape (s, size, size)\n",
    "      \n",
    "    # Weighted fourier basis functions for every point in the tensor \n",
    "    M = f * w1\n",
    "\n",
    "    z_xy = tf.reduce_sum(M, axis=(1, 2)) # the value of the f(x,y)\n",
    "    z_xy = tf.expand_dims(z_xy, axis=-1)\n",
    "    full_dx = M * ax\n",
    "    full_dy = M * ay\n",
    "\n",
    "\n",
    "    df_dx = tf.reduce_sum(full_dx, axis=(1, 2))\n",
    "    df_dx = tf.expand_dims(df_dx, axis=-1)\n",
    "\n",
    "    df_dy = tf.reduce_sum(full_dy, axis=(1, 2))\n",
    "    df_dy = tf.expand_dims(df_dy, axis=-1)\n",
    "\n",
    "    normals = tf.concat([-df_dx, -df_dy, tf.ones(shape=(s,1), dtype=tf.float64)], axis=1)\n",
    "\n",
    "    # Normalized vector so that ||n|| = 1\n",
    "    n, _ = tf.linalg.normalize(normals, axis=1)\n",
    "\n",
    "    n_3 = n[:,2][:, tf.newaxis]\n",
    "\n",
    "    p_all = tf.concat([x,y,z_xy], axis=-1)\n",
    " \n",
    "\n",
    "    # vector of [0,0,1]\n",
    "    vec_one = tf.constant([0, 0, 1], dtype=tf.float64)\n",
    "\n",
    "    # incident ray with matching dimentions basically (s, 3) [0,0,1]\n",
    "    inc = tf.tile(tf.expand_dims(vec_one, axis=0), [s, 1])\n",
    "\n",
    "    sqrt_term = tf.sqrt(1 - (ind_r ** 2) * (1 - n_3 ** 2))\n",
    "    \n",
    "    # calculating the transmitted rays\n",
    "    t_i = sqrt_term * n + ind_r * (inc - n_3 * n)\n",
    "\n",
    "    check_all = tf.math.logical_not(tf.math.is_nan(t_i))\n",
    "    check = check_all[:,0]\n",
    "    p = p_all[check]\n",
    "    t = t_i[check]\n",
    "    t_3 = t[:,2][:, tf.newaxis]\n",
    "\n",
    "    proj = p + ((d - z_xy[check]) / t_3) * t\n",
    "\n",
    "    conv = (t_h/(2*np.pi)) * (proj[:,:2]+np.pi)\n",
    "    \n",
    "    # estimating the light density from light samples\n",
    "    result_tensor = tf.vectorized_map(add_last_light, conv)\n",
    "    final_created = tf.reduce_sum(result_tensor, axis=0)\n",
    "\n",
    "    per_fin = final_created / tf.reduce_mean(final_created)\n",
    "    \n",
    "    per_targ = tf.squeeze(target_photo) / tf.reduce_mean(target_photo)\n",
    "    \n",
    "    # calculating the MSE metric between the target photo distribution and the caustic projection light distribution\n",
    "    loss = tf.reduce_mean(tf.square(per_fin - per_targ))\n",
    "    \n",
    "    return loss"
   ]
  },
  {
   "cell_type": "code",
   "execution_count": 78,
   "id": "a85cc5d3",
   "metadata": {},
   "outputs": [],
   "source": [
    "vec_one = tf.constant([0, 0, 1], dtype=tf.float64)\n",
    "\n",
    "# incident ray with matching dimentions basically (s, 3) [0,0,1]\n",
    "inc = tf.tile(tf.expand_dims(vec_one, axis=0), [s, 1])"
   ]
  },
  {
   "cell_type": "code",
   "execution_count": 79,
   "id": "ab7f2933",
   "metadata": {},
   "outputs": [
    {
     "data": {
      "text/plain": [
       "<tf.Tensor: shape=(), dtype=float64, numpy=0.1583364769054869>"
      ]
     },
     "execution_count": 79,
     "metadata": {},
     "output_type": "execute_result"
    }
   ],
   "source": [
    "compute_loss(target_photo3, np.zeros(shape=(size,size)))"
   ]
  },
  {
   "cell_type": "code",
   "execution_count": 80,
   "id": "6607e509",
   "metadata": {},
   "outputs": [
    {
     "data": {
      "text/plain": [
       "<matplotlib.image.AxesImage at 0x7fb6ef95a560>"
      ]
     },
     "execution_count": 80,
     "metadata": {},
     "output_type": "execute_result"
    },
    {
     "data": {
      "image/png": "[encoded data removed]",
      "text/plain": [
       "<Figure size 640x480 with 1 Axes>"
      ]
     },
     "metadata": {},
     "output_type": "display_data"
    }
   ],
   "source": [
    "plt.imshow(target_photo3)"
   ]
  },
  {
   "cell_type": "markdown",
   "id": "b24fd119",
   "metadata": {},
   "source": [
    "## Creating a function for computing gradients using Automatic Differentiation"
   ]
  },
  {
   "cell_type": "code",
   "execution_count": 35,
   "id": "d8ed74b4",
   "metadata": {},
   "outputs": [],
   "source": [
    "@tf.function\n",
    "def compute_loss_and_grads(w, target_photo):\n",
    "    with tf.GradientTape() as tape:\n",
    "        loss = compute_loss(target_photo, w)\n",
    "    grads = tape.gradient(loss, w)\n",
    "    return loss, grads"
   ]
  },
  {
   "cell_type": "markdown",
   "id": "9b9c5f90",
   "metadata": {},
   "source": [
    "## Setting up the optimizer for Gradient Descent algorithm and learning rate parameter"
   ]
  },
  {
   "cell_type": "code",
   "execution_count": 15,
   "id": "100dea80",
   "metadata": {},
   "outputs": [],
   "source": [
    "optimizer = keras.optimizers.Adam(learning_rate=3e-5)\n",
    "\n",
    "# optimizer = keras.optimizers.SGD(\n",
    "#     keras.optimizers.schedules.ExponentialDecay(\n",
    "#         initial_learning_rate=1e-8, decay_steps=100, decay_rate=0.95\n",
    "#     ), clipnorm=1, momentum=0,\n",
    "#   nesterov=False)"
   ]
  },
  {
   "cell_type": "code",
   "execution_count": 18,
   "id": "7ebd965d",
   "metadata": {},
   "outputs": [],
   "source": [
    "def run_gradient_descent(w, target_photo3, iterations):\n",
    "\n",
    "    for i in range(1, iterations + 1):\n",
    "\n",
    "        loss, grads = compute_loss_and_grads(\n",
    "            w, target_photo3\n",
    "        )\n",
    "\n",
    "        optimizer.apply_gradients([(grads, w)])\n",
    "        \n",
    "        \n",
    "        if i % 10 == 0:\n",
    "            print(\"Iteration %d: loss=%.8f\" % (i, loss))"
   ]
  },
  {
   "cell_type": "markdown",
   "id": "1d5e26d7",
   "metadata": {},
   "source": [
    "## Running the gradient descent algorithm to find the weigths of the model"
   ]
  },
  {
   "cell_type": "code",
   "execution_count": 19,
   "id": "6ba8f560",
   "metadata": {},
   "outputs": [
    {
     "name": "stdout",
     "output_type": "stream",
     "text": [
      "Iteration 10: loss=0.02541266\n",
      "Iteration 20: loss=0.02441998\n",
      "Iteration 30: loss=0.02397418\n",
      "Iteration 40: loss=0.02374351\n",
      "Iteration 50: loss=0.02360529\n",
      "Iteration 60: loss=0.02350805\n",
      "Iteration 70: loss=0.02343742\n",
      "Iteration 80: loss=0.02337621\n",
      "Iteration 90: loss=0.02331486\n",
      "Iteration 100: loss=0.02324507\n",
      "Iteration 110: loss=0.02317392\n",
      "Iteration 120: loss=0.02309598\n",
      "Iteration 130: loss=0.02300368\n",
      "Iteration 140: loss=0.02303403\n",
      "Iteration 150: loss=0.02281545\n"
     ]
    },
    {
     "ename": "KeyboardInterrupt",
     "evalue": "",
     "output_type": "error",
     "traceback": [
      "\u001b[0;31m---------------------------------------------------------------------------\u001b[0m",
      "\u001b[0;31mKeyboardInterrupt\u001b[0m                         Traceback (most recent call last)",
      "File \u001b[0;32m<timed eval>:1\u001b[0m\n",
      "Cell \u001b[0;32mIn[18], line 5\u001b[0m, in \u001b[0;36mrun_gradient_descent\u001b[0;34m(w, target_photo3, iterations)\u001b[0m\n\u001b[1;32m      1\u001b[0m \u001b[38;5;28;01mdef\u001b[39;00m \u001b[38;5;21mrun_gradient_descent\u001b[39m(w, target_photo3, iterations):\n\u001b[1;32m      3\u001b[0m     \u001b[38;5;28;01mfor\u001b[39;00m i \u001b[38;5;129;01min\u001b[39;00m \u001b[38;5;28mrange\u001b[39m(\u001b[38;5;241m1\u001b[39m, iterations \u001b[38;5;241m+\u001b[39m \u001b[38;5;241m1\u001b[39m):\n\u001b[0;32m----> 5\u001b[0m         loss, grads \u001b[38;5;241m=\u001b[39m \u001b[43mcompute_loss_and_grads\u001b[49m\u001b[43m(\u001b[49m\n\u001b[1;32m      6\u001b[0m \u001b[43m            \u001b[49m\u001b[43mw\u001b[49m\u001b[43m,\u001b[49m\u001b[43m \u001b[49m\u001b[43mtarget_photo3\u001b[49m\n\u001b[1;32m      7\u001b[0m \u001b[43m        \u001b[49m\u001b[43m)\u001b[49m\n\u001b[1;32m      9\u001b[0m         optimizer\u001b[38;5;241m.\u001b[39mapply_gradients([(grads, w)])\n\u001b[1;32m     12\u001b[0m         \u001b[38;5;28;01mif\u001b[39;00m i \u001b[38;5;241m%\u001b[39m \u001b[38;5;241m10\u001b[39m \u001b[38;5;241m==\u001b[39m \u001b[38;5;241m0\u001b[39m:\n",
      "File \u001b[0;32m~/anaconda3/envs/caustic/lib/python3.10/site-packages/tensorflow/python/util/traceback_utils.py:150\u001b[0m, in \u001b[0;36mfilter_traceback.<locals>.error_handler\u001b[0;34m(*args, **kwargs)\u001b[0m\n\u001b[1;32m    148\u001b[0m filtered_tb \u001b[38;5;241m=\u001b[39m \u001b[38;5;28;01mNone\u001b[39;00m\n\u001b[1;32m    149\u001b[0m \u001b[38;5;28;01mtry\u001b[39;00m:\n\u001b[0;32m--> 150\u001b[0m   \u001b[38;5;28;01mreturn\u001b[39;00m \u001b[43mfn\u001b[49m\u001b[43m(\u001b[49m\u001b[38;5;241;43m*\u001b[39;49m\u001b[43margs\u001b[49m\u001b[43m,\u001b[49m\u001b[43m \u001b[49m\u001b[38;5;241;43m*\u001b[39;49m\u001b[38;5;241;43m*\u001b[39;49m\u001b[43mkwargs\u001b[49m\u001b[43m)\u001b[49m\n\u001b[1;32m    151\u001b[0m \u001b[38;5;28;01mexcept\u001b[39;00m \u001b[38;5;167;01mException\u001b[39;00m \u001b[38;5;28;01mas\u001b[39;00m e:\n\u001b[1;32m    152\u001b[0m   filtered_tb \u001b[38;5;241m=\u001b[39m _process_traceback_frames(e\u001b[38;5;241m.\u001b[39m__traceback__)\n",
      "File \u001b[0;32m~/anaconda3/envs/caustic/lib/python3.10/site-packages/tensorflow/python/eager/def_function.py:915\u001b[0m, in \u001b[0;36mFunction.__call__\u001b[0;34m(self, *args, **kwds)\u001b[0m\n\u001b[1;32m    912\u001b[0m compiler \u001b[38;5;241m=\u001b[39m \u001b[38;5;124m\"\u001b[39m\u001b[38;5;124mxla\u001b[39m\u001b[38;5;124m\"\u001b[39m \u001b[38;5;28;01mif\u001b[39;00m \u001b[38;5;28mself\u001b[39m\u001b[38;5;241m.\u001b[39m_jit_compile \u001b[38;5;28;01melse\u001b[39;00m \u001b[38;5;124m\"\u001b[39m\u001b[38;5;124mnonXla\u001b[39m\u001b[38;5;124m\"\u001b[39m\n\u001b[1;32m    914\u001b[0m \u001b[38;5;28;01mwith\u001b[39;00m OptionalXlaContext(\u001b[38;5;28mself\u001b[39m\u001b[38;5;241m.\u001b[39m_jit_compile):\n\u001b[0;32m--> 915\u001b[0m   result \u001b[38;5;241m=\u001b[39m \u001b[38;5;28;43mself\u001b[39;49m\u001b[38;5;241;43m.\u001b[39;49m\u001b[43m_call\u001b[49m\u001b[43m(\u001b[49m\u001b[38;5;241;43m*\u001b[39;49m\u001b[43margs\u001b[49m\u001b[43m,\u001b[49m\u001b[43m \u001b[49m\u001b[38;5;241;43m*\u001b[39;49m\u001b[38;5;241;43m*\u001b[39;49m\u001b[43mkwds\u001b[49m\u001b[43m)\u001b[49m\n\u001b[1;32m    917\u001b[0m new_tracing_count \u001b[38;5;241m=\u001b[39m \u001b[38;5;28mself\u001b[39m\u001b[38;5;241m.\u001b[39mexperimental_get_tracing_count()\n\u001b[1;32m    918\u001b[0m without_tracing \u001b[38;5;241m=\u001b[39m (tracing_count \u001b[38;5;241m==\u001b[39m new_tracing_count)\n",
      "File \u001b[0;32m~/anaconda3/envs/caustic/lib/python3.10/site-packages/tensorflow/python/eager/def_function.py:954\u001b[0m, in \u001b[0;36mFunction._call\u001b[0;34m(self, *args, **kwds)\u001b[0m\n\u001b[1;32m    951\u001b[0m \u001b[38;5;28mself\u001b[39m\u001b[38;5;241m.\u001b[39m_lock\u001b[38;5;241m.\u001b[39mrelease()\n\u001b[1;32m    952\u001b[0m \u001b[38;5;66;03m# In this case we have not created variables on the first call. So we can\u001b[39;00m\n\u001b[1;32m    953\u001b[0m \u001b[38;5;66;03m# run the first trace but we should fail if variables are created.\u001b[39;00m\n\u001b[0;32m--> 954\u001b[0m results \u001b[38;5;241m=\u001b[39m \u001b[38;5;28;43mself\u001b[39;49m\u001b[38;5;241;43m.\u001b[39;49m\u001b[43m_stateful_fn\u001b[49m\u001b[43m(\u001b[49m\u001b[38;5;241;43m*\u001b[39;49m\u001b[43margs\u001b[49m\u001b[43m,\u001b[49m\u001b[43m \u001b[49m\u001b[38;5;241;43m*\u001b[39;49m\u001b[38;5;241;43m*\u001b[39;49m\u001b[43mkwds\u001b[49m\u001b[43m)\u001b[49m\n\u001b[1;32m    955\u001b[0m \u001b[38;5;28;01mif\u001b[39;00m \u001b[38;5;28mself\u001b[39m\u001b[38;5;241m.\u001b[39m_created_variables \u001b[38;5;129;01mand\u001b[39;00m \u001b[38;5;129;01mnot\u001b[39;00m ALLOW_DYNAMIC_VARIABLE_CREATION:\n\u001b[1;32m    956\u001b[0m   \u001b[38;5;28;01mraise\u001b[39;00m \u001b[38;5;167;01mValueError\u001b[39;00m(\u001b[38;5;124m\"\u001b[39m\u001b[38;5;124mCreating variables on a non-first call to a function\u001b[39m\u001b[38;5;124m\"\u001b[39m\n\u001b[1;32m    957\u001b[0m                    \u001b[38;5;124m\"\u001b[39m\u001b[38;5;124m decorated with tf.function.\u001b[39m\u001b[38;5;124m\"\u001b[39m)\n",
      "File \u001b[0;32m~/anaconda3/envs/caustic/lib/python3.10/site-packages/tensorflow/python/eager/function.py:2496\u001b[0m, in \u001b[0;36mFunction.__call__\u001b[0;34m(self, *args, **kwargs)\u001b[0m\n\u001b[1;32m   2493\u001b[0m \u001b[38;5;28;01mwith\u001b[39;00m \u001b[38;5;28mself\u001b[39m\u001b[38;5;241m.\u001b[39m_lock:\n\u001b[1;32m   2494\u001b[0m   (graph_function,\n\u001b[1;32m   2495\u001b[0m    filtered_flat_args) \u001b[38;5;241m=\u001b[39m \u001b[38;5;28mself\u001b[39m\u001b[38;5;241m.\u001b[39m_maybe_define_function(args, kwargs)\n\u001b[0;32m-> 2496\u001b[0m \u001b[38;5;28;01mreturn\u001b[39;00m \u001b[43mgraph_function\u001b[49m\u001b[38;5;241;43m.\u001b[39;49m\u001b[43m_call_flat\u001b[49m\u001b[43m(\u001b[49m\n\u001b[1;32m   2497\u001b[0m \u001b[43m    \u001b[49m\u001b[43mfiltered_flat_args\u001b[49m\u001b[43m,\u001b[49m\u001b[43m \u001b[49m\u001b[43mcaptured_inputs\u001b[49m\u001b[38;5;241;43m=\u001b[39;49m\u001b[43mgraph_function\u001b[49m\u001b[38;5;241;43m.\u001b[39;49m\u001b[43mcaptured_inputs\u001b[49m\u001b[43m)\u001b[49m\n",
      "File \u001b[0;32m~/anaconda3/envs/caustic/lib/python3.10/site-packages/tensorflow/python/eager/function.py:1862\u001b[0m, in \u001b[0;36mConcreteFunction._call_flat\u001b[0;34m(self, args, captured_inputs, cancellation_manager)\u001b[0m\n\u001b[1;32m   1858\u001b[0m possible_gradient_type \u001b[38;5;241m=\u001b[39m gradients_util\u001b[38;5;241m.\u001b[39mPossibleTapeGradientTypes(args)\n\u001b[1;32m   1859\u001b[0m \u001b[38;5;28;01mif\u001b[39;00m (possible_gradient_type \u001b[38;5;241m==\u001b[39m gradients_util\u001b[38;5;241m.\u001b[39mPOSSIBLE_GRADIENT_TYPES_NONE\n\u001b[1;32m   1860\u001b[0m     \u001b[38;5;129;01mand\u001b[39;00m executing_eagerly):\n\u001b[1;32m   1861\u001b[0m   \u001b[38;5;66;03m# No tape is watching; skip to running the function.\u001b[39;00m\n\u001b[0;32m-> 1862\u001b[0m   \u001b[38;5;28;01mreturn\u001b[39;00m \u001b[38;5;28mself\u001b[39m\u001b[38;5;241m.\u001b[39m_build_call_outputs(\u001b[38;5;28;43mself\u001b[39;49m\u001b[38;5;241;43m.\u001b[39;49m\u001b[43m_inference_function\u001b[49m\u001b[38;5;241;43m.\u001b[39;49m\u001b[43mcall\u001b[49m\u001b[43m(\u001b[49m\n\u001b[1;32m   1863\u001b[0m \u001b[43m      \u001b[49m\u001b[43mctx\u001b[49m\u001b[43m,\u001b[49m\u001b[43m \u001b[49m\u001b[43margs\u001b[49m\u001b[43m,\u001b[49m\u001b[43m \u001b[49m\u001b[43mcancellation_manager\u001b[49m\u001b[38;5;241;43m=\u001b[39;49m\u001b[43mcancellation_manager\u001b[49m\u001b[43m)\u001b[49m)\n\u001b[1;32m   1864\u001b[0m forward_backward \u001b[38;5;241m=\u001b[39m \u001b[38;5;28mself\u001b[39m\u001b[38;5;241m.\u001b[39m_select_forward_and_backward_functions(\n\u001b[1;32m   1865\u001b[0m     args,\n\u001b[1;32m   1866\u001b[0m     possible_gradient_type,\n\u001b[1;32m   1867\u001b[0m     executing_eagerly)\n\u001b[1;32m   1868\u001b[0m forward_function, args_with_tangents \u001b[38;5;241m=\u001b[39m forward_backward\u001b[38;5;241m.\u001b[39mforward()\n",
      "File \u001b[0;32m~/anaconda3/envs/caustic/lib/python3.10/site-packages/tensorflow/python/eager/function.py:499\u001b[0m, in \u001b[0;36m_EagerDefinedFunction.call\u001b[0;34m(self, ctx, args, cancellation_manager)\u001b[0m\n\u001b[1;32m    497\u001b[0m \u001b[38;5;28;01mwith\u001b[39;00m _InterpolateFunctionError(\u001b[38;5;28mself\u001b[39m):\n\u001b[1;32m    498\u001b[0m   \u001b[38;5;28;01mif\u001b[39;00m cancellation_manager \u001b[38;5;129;01mis\u001b[39;00m \u001b[38;5;28;01mNone\u001b[39;00m:\n\u001b[0;32m--> 499\u001b[0m     outputs \u001b[38;5;241m=\u001b[39m \u001b[43mexecute\u001b[49m\u001b[38;5;241;43m.\u001b[39;49m\u001b[43mexecute\u001b[49m\u001b[43m(\u001b[49m\n\u001b[1;32m    500\u001b[0m \u001b[43m        \u001b[49m\u001b[38;5;28;43mstr\u001b[39;49m\u001b[43m(\u001b[49m\u001b[38;5;28;43mself\u001b[39;49m\u001b[38;5;241;43m.\u001b[39;49m\u001b[43msignature\u001b[49m\u001b[38;5;241;43m.\u001b[39;49m\u001b[43mname\u001b[49m\u001b[43m)\u001b[49m\u001b[43m,\u001b[49m\n\u001b[1;32m    501\u001b[0m \u001b[43m        \u001b[49m\u001b[43mnum_outputs\u001b[49m\u001b[38;5;241;43m=\u001b[39;49m\u001b[38;5;28;43mself\u001b[39;49m\u001b[38;5;241;43m.\u001b[39;49m\u001b[43m_num_outputs\u001b[49m\u001b[43m,\u001b[49m\n\u001b[1;32m    502\u001b[0m \u001b[43m        \u001b[49m\u001b[43minputs\u001b[49m\u001b[38;5;241;43m=\u001b[39;49m\u001b[43margs\u001b[49m\u001b[43m,\u001b[49m\n\u001b[1;32m    503\u001b[0m \u001b[43m        \u001b[49m\u001b[43mattrs\u001b[49m\u001b[38;5;241;43m=\u001b[39;49m\u001b[43mattrs\u001b[49m\u001b[43m,\u001b[49m\n\u001b[1;32m    504\u001b[0m \u001b[43m        \u001b[49m\u001b[43mctx\u001b[49m\u001b[38;5;241;43m=\u001b[39;49m\u001b[43mctx\u001b[49m\u001b[43m)\u001b[49m\n\u001b[1;32m    505\u001b[0m   \u001b[38;5;28;01melse\u001b[39;00m:\n\u001b[1;32m    506\u001b[0m     outputs \u001b[38;5;241m=\u001b[39m execute\u001b[38;5;241m.\u001b[39mexecute_with_cancellation(\n\u001b[1;32m    507\u001b[0m         \u001b[38;5;28mstr\u001b[39m(\u001b[38;5;28mself\u001b[39m\u001b[38;5;241m.\u001b[39msignature\u001b[38;5;241m.\u001b[39mname),\n\u001b[1;32m    508\u001b[0m         num_outputs\u001b[38;5;241m=\u001b[39m\u001b[38;5;28mself\u001b[39m\u001b[38;5;241m.\u001b[39m_num_outputs,\n\u001b[0;32m   (...)\u001b[0m\n\u001b[1;32m    511\u001b[0m         ctx\u001b[38;5;241m=\u001b[39mctx,\n\u001b[1;32m    512\u001b[0m         cancellation_manager\u001b[38;5;241m=\u001b[39mcancellation_manager)\n",
      "File \u001b[0;32m~/anaconda3/envs/caustic/lib/python3.10/site-packages/tensorflow/python/eager/execute.py:54\u001b[0m, in \u001b[0;36mquick_execute\u001b[0;34m(op_name, num_outputs, inputs, attrs, ctx, name)\u001b[0m\n\u001b[1;32m     52\u001b[0m \u001b[38;5;28;01mtry\u001b[39;00m:\n\u001b[1;32m     53\u001b[0m   ctx\u001b[38;5;241m.\u001b[39mensure_initialized()\n\u001b[0;32m---> 54\u001b[0m   tensors \u001b[38;5;241m=\u001b[39m \u001b[43mpywrap_tfe\u001b[49m\u001b[38;5;241;43m.\u001b[39;49m\u001b[43mTFE_Py_Execute\u001b[49m\u001b[43m(\u001b[49m\u001b[43mctx\u001b[49m\u001b[38;5;241;43m.\u001b[39;49m\u001b[43m_handle\u001b[49m\u001b[43m,\u001b[49m\u001b[43m \u001b[49m\u001b[43mdevice_name\u001b[49m\u001b[43m,\u001b[49m\u001b[43m \u001b[49m\u001b[43mop_name\u001b[49m\u001b[43m,\u001b[49m\n\u001b[1;32m     55\u001b[0m \u001b[43m                                      \u001b[49m\u001b[43minputs\u001b[49m\u001b[43m,\u001b[49m\u001b[43m \u001b[49m\u001b[43mattrs\u001b[49m\u001b[43m,\u001b[49m\u001b[43m \u001b[49m\u001b[43mnum_outputs\u001b[49m\u001b[43m)\u001b[49m\n\u001b[1;32m     56\u001b[0m \u001b[38;5;28;01mexcept\u001b[39;00m core\u001b[38;5;241m.\u001b[39m_NotOkStatusException \u001b[38;5;28;01mas\u001b[39;00m e:\n\u001b[1;32m     57\u001b[0m   \u001b[38;5;28;01mif\u001b[39;00m name \u001b[38;5;129;01mis\u001b[39;00m \u001b[38;5;129;01mnot\u001b[39;00m \u001b[38;5;28;01mNone\u001b[39;00m:\n",
      "\u001b[0;31mKeyboardInterrupt\u001b[0m: "
     ]
    }
   ],
   "source": [
    "%%time\n",
    "run_gradient_descent(w, target_photo3, 1000)\n",
    "#np.savetxt('/Users/mlot/Documents/Coding/Projekty/wagi_32_16spp1', w.numpy(), delimiter=',', comments='')"
   ]
  },
  {
   "cell_type": "code",
   "execution_count": 105,
   "id": "489ea24c",
   "metadata": {},
   "outputs": [
    {
     "data": {
      "text/plain": [
       "<tf.Tensor: shape=(), dtype=float64, numpy=0.1583364769054869>"
      ]
     },
     "execution_count": 105,
     "metadata": {},
     "output_type": "execute_result"
    }
   ],
   "source": [
    "compute_loss(target_photo3, np.zeros(shape=(size,size)))"
   ]
  },
  {
   "cell_type": "markdown",
   "id": "277610f3",
   "metadata": {},
   "source": [
    "## Visualization of the weights"
   ]
  },
  {
   "cell_type": "code",
   "execution_count": 106,
   "id": "58b06e24",
   "metadata": {},
   "outputs": [
    {
     "data": {
      "image/png": "[encoded data removed]",
      "text/plain": [
       "<Figure size 640x480 with 2 Axes>"
      ]
     },
     "metadata": {},
     "output_type": "display_data"
    }
   ],
   "source": [
    "heatmap = sns.heatmap(w,cmap ='viridis')\n",
    "heatmap.set_aspect('equal')"
   ]
  },
  {
   "cell_type": "markdown",
   "id": "27d27ba1",
   "metadata": {},
   "source": [
    "## Speed tests"
   ]
  },
  {
   "cell_type": "code",
   "execution_count": 24,
   "id": "2307098e",
   "metadata": {},
   "outputs": [
    {
     "name": "stdout",
     "output_type": "stream",
     "text": [
      "CPU times: user 1.58 s, sys: 1.61 s, total: 3.19 s\n",
      "Wall time: 2.9 s\n"
     ]
    }
   ],
   "source": [
    "%%time\n",
    "\n",
    "w_test =  tf.Variable(tf.random.uniform(shape=(size, size), minval=-0.00001, maxval=0.00001, dtype=tf.float64), trainable=True)\n",
    "w1 = tf.expand_dims(w, axis=0)  # shape (1, size, size)  \n",
    "w1 = tf.tile(w1, [s, 1, 1]) # shape (s, size, size)\n",
    "\n",
    " \n",
    "M = f * w1 # 8 s\n",
    "\n",
    "z_xy = tf.reduce_sum(M, axis=(1, 2)) \n",
    "z_xy = tf.expand_dims(z_xy, axis=-1) \n",
    "full_dx = M * ax\n",
    "full_dy = M * ay # 12 s\n",
    "\n",
    "\n",
    "df_dx = tf.reduce_sum(full_dx, axis=(1, 2))\n",
    "df_dx = tf.expand_dims(df_dx, axis=-1) \n",
    "\n",
    "df_dy = tf.reduce_sum(full_dy, axis=(1, 2))\n",
    "df_dy = tf.expand_dims(df_dy, axis=-1) #  4 s\n",
    "\n",
    "normals = tf.concat([-df_dx, -df_dy, tf.ones(shape=(s,1), dtype=tf.float64)], axis=1) # microseconds\n",
    "\n",
    "n, _ = tf.linalg.normalize(normals, axis=1) # miliseconds\n",
    "\n",
    "n_3 = n[:,2][:, tf.newaxis]\n",
    "\n",
    "p_all = tf.concat([x,y,z_xy], axis=-1)\n",
    "\n",
    "\n",
    "\n",
    "vec_one = tf.constant([0, 0, 1], dtype=tf.float64)\n",
    "\n",
    "\n",
    "inc = tf.tile(tf.expand_dims(vec_one, axis=0), [s, 1])\n",
    "\n",
    "sqrt_term = tf.sqrt(1 - (ind_r ** 2) * (1 - n_3 ** 2))\n",
    "\n",
    "t_i = sqrt_term * n + ind_r * (inc - n_3 * n)\n",
    "\n",
    "check_all = tf.math.logical_not(tf.math.is_nan(t_i))\n",
    "check = check_all[:,0]\n",
    "p = p_all[check]\n",
    "t = t_i[check]\n",
    "t_3 = t[:,2][:, tf.newaxis]\n",
    "proj = p + ((d - z_xy[check]) / t_3) * t\n",
    "conv = (t_h/(2*np.pi)) * (proj[:,:2]+np.pi) # miliseconds\n",
    "\n",
    "result_tensor = tf.vectorized_map(add_last_light, conv) # 2.85 s\n",
    "final_created = tf.reduce_sum(result_tensor, axis=0)\n",
    "\n",
    "per_fin = final_created / tf.reduce_mean(final_created)\n",
    "\n",
    "per_targ = tf.squeeze(target_photo3 / tf.reduce_mean(target_photo3))\n",
    "\n",
    "loss = tf.reduce_mean(tf.square(per_fin - per_targ)) # miliseconds"
   ]
  },
  {
   "cell_type": "code",
   "execution_count": 25,
   "id": "7d787a0b",
   "metadata": {},
   "outputs": [
    {
     "name": "stdout",
     "output_type": "stream",
     "text": [
      "CPU times: user 1.16 s, sys: 314 ms, total: 1.47 s\n",
      "Wall time: 720 ms\n"
     ]
    }
   ],
   "source": [
    "%time result_tensor = tf.vectorized_map(add_last_light, conv)"
   ]
  },
  {
   "cell_type": "code",
   "execution_count": 26,
   "id": "00fda64f",
   "metadata": {},
   "outputs": [
    {
     "data": {
      "text/plain": [
       "0.27969676208590843"
      ]
     },
     "execution_count": 26,
     "metadata": {},
     "output_type": "execute_result"
    }
   ],
   "source": [
    "np.std(per_fin)"
   ]
  },
  {
   "cell_type": "code",
   "execution_count": 33,
   "id": "638eca5e",
   "metadata": {},
   "outputs": [
    {
     "data": {
      "image/png": "[encoded data removed]",
      "text/plain": [
       "<Figure size 640x480 with 2 Axes>"
      ]
     },
     "metadata": {},
     "output_type": "display_data"
    }
   ],
   "source": [
    "heatmap = sns.heatmap(per_fin,cmap ='viridis')\n",
    "heatmap.set_aspect('equal')"
   ]
  },
  {
   "cell_type": "code",
   "execution_count": 32,
   "id": "fa8bcbb3",
   "metadata": {},
   "outputs": [
    {
     "data": {
      "image/png": "[encoded data removed]",
      "text/plain": [
       "<Figure size 640x480 with 2 Axes>"
      ]
     },
     "metadata": {},
     "output_type": "display_data"
    }
   ],
   "source": [
    "heatmap = sns.heatmap(per_targ,cmap ='viridis')\n",
    "heatmap.set_aspect('equal')"
   ]
  },
  {
   "cell_type": "code",
   "execution_count": null,
   "id": "7f3be1fd",
   "metadata": {},
   "outputs": [],
   "source": []
  }
 ],
 "metadata": {
  "kernelspec": {
   "display_name": "Python 3 (ipykernel)",
   "language": "python",
   "name": "python3"
  },
  "language_info": {
   "codemirror_mode": {
    "name": "ipython",
    "version": 3
   },
   "file_extension": ".py",
   "mimetype": "text/x-python",
   "name": "python",
   "nbconvert_exporter": "python",
   "pygments_lexer": "ipython3",
   "version": "3.10.13"
  }
 },
 "nbformat": 4,
 "nbformat_minor": 5
}
